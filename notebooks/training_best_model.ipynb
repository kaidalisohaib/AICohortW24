{
 "cells": [
  {
   "cell_type": "code",
   "execution_count": 7,
   "metadata": {},
   "outputs": [],
   "source": [
    "import os\n",
    "import time\n",
    "import logging\n",
    "import shutil\n",
    "from math import ceil\n",
    "from datetime import datetime\n",
    "from importlib import reload  # Not needed in Python 2\n",
    "\n",
    "import pandas as pd\n",
    "import numpy as np\n",
    "import matplotlib.pyplot as plt\n",
    "import seaborn as sns\n",
    "\n",
    "from sklearn.model_selection import train_test_split\n",
    "from sklearn.preprocessing import MinMaxScaler, PolynomialFeatures\n",
    "from sklearn.metrics import classification_report, confusion_matrix, average_precision_score, precision_score, balanced_accuracy_score\n",
    "from imblearn.under_sampling import RandomUnderSampler\n",
    "from joblib import Memory\n",
    "from sklearn.pipeline import Pipeline\n",
    "from sklearn.linear_model import LogisticRegressionCV\n",
    "\n",
    "import onnx\n",
    "from onnx import shape_inference\n",
    "from skl2onnx import convert_sklearn\n",
    "from skl2onnx.common.data_types import FloatTensorType, Int64TensorType\n",
    "from onnxruntime import InferenceSession\n",
    "\n",
    "reload(logging)\n",
    "%matplotlib inline\n",
    "\n",
    "sns.set_context(\"notebook\")\n",
    "sns.set_theme(style=\"ticks\")\n",
    "sns.color_palette(\"rocket\", as_cmap=True)\n",
    "\n",
    "\n",
    "# Set up logging configuration\n",
    "logging.basicConfig(level=logging.INFO, format='%(asctime)s - %(levelname)s - %(message)s', datefmt='%Y-%m-%d %H:%M:%S', \n",
    "                    handlers=[\n",
    "        logging.StreamHandler()\n",
    "    ],)\n",
    "logger = logging.getLogger(__name__)\n",
    "\n",
    "# Create a memory object to cache the results\n",
    "memory = Memory(location='cache', verbose=0)\n"
   ]
  },
  {
   "cell_type": "markdown",
   "metadata": {},
   "source": [
    "## Reading Data and Extracting Feature Columns"
   ]
  },
  {
   "cell_type": "code",
   "execution_count": 2,
   "metadata": {},
   "outputs": [],
   "source": [
    "input_file_path = \"https://raw.githubusercontent.com/kaidalisohaib/AICohortW24/main/data/heart_disease_health_indicators_BRFSS2015.csv\"\n",
    "\n",
    "df = pd.read_csv(input_file_path, header = 0)\n",
    "\n",
    "all_columns = df.columns.tolist()\n",
    "\n",
    "# Define target column\n",
    "target_column = \"HeartDiseaseorAttack\"\n",
    "\n",
    "# Get all feature columns except one\n",
    "all_features = all_columns\n",
    "all_features.remove(target_column)"
   ]
  },
  {
   "cell_type": "markdown",
   "metadata": {},
   "source": [
    "## Sampling the Dataset"
   ]
  },
  {
   "cell_type": "code",
   "execution_count": 3,
   "metadata": {},
   "outputs": [
    {
     "name": "stderr",
     "output_type": "stream",
     "text": [
      "2024-03-08 20:32:00 - INFO - Sampling the dataset...\n",
      "2024-03-08 20:32:00 - INFO - Splitting data into train and test sets...\n"
     ]
    }
   ],
   "source": [
    "# Sample the dataset\n",
    "def sample_dataset(df, frac=0.1, random_state=42):\n",
    "    logger.info(\"Sampling the dataset...\")\n",
    "    return df.sample(frac=frac, random_state=random_state)\n",
    "\n",
    "# Split data into train and test sets\n",
    "def split_train_test(sample_df, all_features, target_column, test_size=0.2, random_state=42):\n",
    "    logger.info(\"Splitting data into train and test sets...\")\n",
    "    X_train, X_test, y_train, y_test = train_test_split(sample_df[all_features], sample_df[target_column], test_size=test_size, random_state=random_state)\n",
    "    return X_train, X_test, y_train, y_test\n",
    "\n",
    "# Call the functions to sample the dataset and split train-test sets\n",
    "sample_df = sample_dataset(df, 1)\n",
    "X_train, X_test, y_train, y_test = split_train_test(sample_df, all_features, target_column)\n",
    "\n",
    "# sampler = RandomUnderSampler(random_state=42)\n",
    "sampler = RandomUnderSampler(random_state=42)\n",
    "X_train_resampled, y_train_resampled = sampler.fit_resample(X_train, y_train)"
   ]
  },
  {
   "cell_type": "markdown",
   "metadata": {},
   "source": [
    "## Pipeline Definition and Training\n",
    "\n",
    "Using HistGradientBoostingClassifier instead of BoostingClassifier because it is faster for training and gives the same values."
   ]
  },
  {
   "cell_type": "code",
   "execution_count": 12,
   "metadata": {},
   "outputs": [
    {
     "name": "stderr",
     "output_type": "stream",
     "text": [
      "[Parallel(n_jobs=-1)]: Using backend ThreadingBackend with 4 concurrent workers.\n"
     ]
    },
    {
     "name": "stdout",
     "output_type": "stream",
     "text": [
      "convergence after 15 epochs took 4 seconds\n",
      "convergence after 15 epochs took 4 seconds\n",
      "convergence after 15 epochs took 4 seconds\n",
      "convergence after 15 epochs took 4 seconds\n",
      "convergence after 23 epochs took 7 seconds\n",
      "convergence after 25 epochs took 7 seconds\n",
      "convergence after 25 epochs took 7 seconds\n",
      "convergence after 32 epochs took 8 seconds\n",
      "convergence after 59 epochs took 14 seconds\n",
      "convergence after 72 epochs took 17 seconds\n",
      "convergence after 76 epochs took 21 seconds\n",
      "convergence after 93 epochs took 23 seconds\n",
      "convergence after 362 epochs took 126 seconds\n",
      "convergence after 404 epochs took 134 seconds\n",
      "convergence after 368 epochs took 131 seconds\n",
      "convergence after 458 epochs took 148 seconds\n",
      "max_iter reached after 370 seconds\n"
     ]
    },
    {
     "name": "stderr",
     "output_type": "stream",
     "text": [
      "c:\\Users\\Sohaib Kaidali\\projects\\git\\AICohortW24\\venv\\lib\\site-packages\\sklearn\\linear_model\\_sag.py:350: ConvergenceWarning: The max_iter was reached which means the coef_ did not converge\n",
      "  warnings.warn(\n"
     ]
    },
    {
     "name": "stdout",
     "output_type": "stream",
     "text": [
      "max_iter reached after 361 seconds\n"
     ]
    },
    {
     "name": "stderr",
     "output_type": "stream",
     "text": [
      "c:\\Users\\Sohaib Kaidali\\projects\\git\\AICohortW24\\venv\\lib\\site-packages\\sklearn\\linear_model\\_sag.py:350: ConvergenceWarning: The max_iter was reached which means the coef_ did not converge\n",
      "  warnings.warn(\n"
     ]
    },
    {
     "name": "stdout",
     "output_type": "stream",
     "text": [
      "convergence after 15 epochs took 4 seconds\n",
      "convergence after 16 epochs took 5 seconds\n",
      "convergence after 25 epochs took 13 seconds\n",
      "max_iter reached after 358 seconds\n"
     ]
    },
    {
     "name": "stderr",
     "output_type": "stream",
     "text": [
      "c:\\Users\\Sohaib Kaidali\\projects\\git\\AICohortW24\\venv\\lib\\site-packages\\sklearn\\linear_model\\_sag.py:350: ConvergenceWarning: The max_iter was reached which means the coef_ did not converge\n",
      "  warnings.warn(\n"
     ]
    },
    {
     "name": "stdout",
     "output_type": "stream",
     "text": [
      "convergence after 54 epochs took 20 seconds\n",
      "convergence after 16 epochs took 6 seconds\n",
      "max_iter reached after 385 seconds\n"
     ]
    },
    {
     "name": "stderr",
     "output_type": "stream",
     "text": [
      "c:\\Users\\Sohaib Kaidali\\projects\\git\\AICohortW24\\venv\\lib\\site-packages\\sklearn\\linear_model\\_sag.py:350: ConvergenceWarning: The max_iter was reached which means the coef_ did not converge\n",
      "  warnings.warn(\n"
     ]
    },
    {
     "name": "stdout",
     "output_type": "stream",
     "text": [
      "convergence after 16 epochs took 5 seconds\n",
      "convergence after 23 epochs took 8 seconds\n",
      "convergence after 25 epochs took 8 seconds\n",
      "convergence after 89 epochs took 33 seconds\n",
      "convergence after 62 epochs took 20 seconds\n",
      "convergence after 100 epochs took 30 seconds\n",
      "convergence after 80 epochs took 24 seconds\n",
      "convergence after 368 epochs took 153 seconds\n",
      "convergence after 410 epochs took 177 seconds\n",
      "convergence after 471 epochs took 187 seconds\n",
      "convergence after 547 epochs took 209 seconds\n",
      "max_iter reached after 456 seconds\n"
     ]
    },
    {
     "name": "stderr",
     "output_type": "stream",
     "text": [
      "c:\\Users\\Sohaib Kaidali\\projects\\git\\AICohortW24\\venv\\lib\\site-packages\\sklearn\\linear_model\\_sag.py:350: ConvergenceWarning: The max_iter was reached which means the coef_ did not converge\n",
      "  warnings.warn(\n"
     ]
    },
    {
     "name": "stdout",
     "output_type": "stream",
     "text": [
      "max_iter reached after 401 seconds\n"
     ]
    },
    {
     "name": "stderr",
     "output_type": "stream",
     "text": [
      "c:\\Users\\Sohaib Kaidali\\projects\\git\\AICohortW24\\venv\\lib\\site-packages\\sklearn\\linear_model\\_sag.py:350: ConvergenceWarning: The max_iter was reached which means the coef_ did not converge\n",
      "  warnings.warn(\n"
     ]
    },
    {
     "name": "stdout",
     "output_type": "stream",
     "text": [
      "convergence after 16 epochs took 6 seconds\n",
      "convergence after 16 epochs took 5 seconds\n",
      "convergence after 33 epochs took 13 seconds\n",
      "max_iter reached after 454 seconds\n"
     ]
    },
    {
     "name": "stderr",
     "output_type": "stream",
     "text": [
      "c:\\Users\\Sohaib Kaidali\\projects\\git\\AICohortW24\\venv\\lib\\site-packages\\sklearn\\linear_model\\_sag.py:350: ConvergenceWarning: The max_iter was reached which means the coef_ did not converge\n",
      "  warnings.warn(\n"
     ]
    },
    {
     "name": "stdout",
     "output_type": "stream",
     "text": [
      "max_iter reached after 437 seconds\n"
     ]
    },
    {
     "name": "stderr",
     "output_type": "stream",
     "text": [
      "c:\\Users\\Sohaib Kaidali\\projects\\git\\AICohortW24\\venv\\lib\\site-packages\\sklearn\\linear_model\\_sag.py:350: ConvergenceWarning: The max_iter was reached which means the coef_ did not converge\n",
      "  warnings.warn(\n"
     ]
    },
    {
     "name": "stdout",
     "output_type": "stream",
     "text": [
      "convergence after 50 epochs took 20 seconds\n",
      "convergence after 15 epochs took 7 seconds\n",
      "convergence after 15 epochs took 6 seconds\n",
      "convergence after 25 epochs took 9 seconds\n",
      "convergence after 24 epochs took 9 seconds\n",
      "convergence after 99 epochs took 43 seconds\n",
      "convergence after 59 epochs took 25 seconds\n",
      "convergence after 110 epochs took 44 seconds\n",
      "convergence after 78 epochs took 36 seconds\n",
      "convergence after 375 epochs took 149 seconds\n",
      "convergence after 356 epochs took 147 seconds\n",
      "convergence after 549 epochs took 195 seconds\n",
      "convergence after 564 epochs took 207 seconds\n",
      "max_iter reached after 395 seconds\n"
     ]
    },
    {
     "name": "stderr",
     "output_type": "stream",
     "text": [
      "c:\\Users\\Sohaib Kaidali\\projects\\git\\AICohortW24\\venv\\lib\\site-packages\\sklearn\\linear_model\\_sag.py:350: ConvergenceWarning: The max_iter was reached which means the coef_ did not converge\n",
      "  warnings.warn(\n"
     ]
    },
    {
     "name": "stdout",
     "output_type": "stream",
     "text": [
      "convergence after 15 epochs took 5 seconds\n",
      "convergence after 26 epochs took 8 seconds\n",
      "max_iter reached after 365 seconds\n"
     ]
    },
    {
     "name": "stderr",
     "output_type": "stream",
     "text": [
      "c:\\Users\\Sohaib Kaidali\\projects\\git\\AICohortW24\\venv\\lib\\site-packages\\sklearn\\linear_model\\_sag.py:350: ConvergenceWarning: The max_iter was reached which means the coef_ did not converge\n",
      "  warnings.warn(\n"
     ]
    },
    {
     "name": "stdout",
     "output_type": "stream",
     "text": [
      "convergence after 15 epochs took 4 seconds\n",
      "max_iter reached after 420 seconds\n"
     ]
    },
    {
     "name": "stderr",
     "output_type": "stream",
     "text": [
      "c:\\Users\\Sohaib Kaidali\\projects\\git\\AICohortW24\\venv\\lib\\site-packages\\sklearn\\linear_model\\_sag.py:350: ConvergenceWarning: The max_iter was reached which means the coef_ did not converge\n",
      "  warnings.warn(\n"
     ]
    },
    {
     "name": "stdout",
     "output_type": "stream",
     "text": [
      "max_iter reached after 375 seconds\n"
     ]
    },
    {
     "name": "stderr",
     "output_type": "stream",
     "text": [
      "c:\\Users\\Sohaib Kaidali\\projects\\git\\AICohortW24\\venv\\lib\\site-packages\\sklearn\\linear_model\\_sag.py:350: ConvergenceWarning: The max_iter was reached which means the coef_ did not converge\n",
      "  warnings.warn(\n"
     ]
    },
    {
     "name": "stdout",
     "output_type": "stream",
     "text": [
      "convergence after 33 epochs took 10 seconds\n",
      "convergence after 77 epochs took 23 seconds\n",
      "convergence after 15 epochs took 5 seconds\n",
      "convergence after 16 epochs took 5 seconds\n",
      "convergence after 25 epochs took 8 seconds\n",
      "convergence after 53 epochs took 16 seconds\n",
      "convergence after 102 epochs took 39 seconds\n",
      "convergence after 63 epochs took 29 seconds\n",
      "convergence after 135 epochs took 47 seconds\n",
      "convergence after 393 epochs took 156 seconds\n",
      "convergence after 376 epochs took 146 seconds\n",
      "convergence after 384 epochs took 155 seconds\n",
      "convergence after 425 epochs took 164 seconds\n",
      "max_iter reached after 381 seconds\n"
     ]
    },
    {
     "name": "stderr",
     "output_type": "stream",
     "text": [
      "c:\\Users\\Sohaib Kaidali\\projects\\git\\AICohortW24\\venv\\lib\\site-packages\\sklearn\\linear_model\\_sag.py:350: ConvergenceWarning: The max_iter was reached which means the coef_ did not converge\n",
      "  warnings.warn(\n"
     ]
    },
    {
     "name": "stdout",
     "output_type": "stream",
     "text": [
      "convergence after 16 epochs took 7 seconds\n",
      "convergence after 24 epochs took 8 seconds\n",
      "max_iter reached after 372 seconds\n"
     ]
    },
    {
     "name": "stderr",
     "output_type": "stream",
     "text": [
      "c:\\Users\\Sohaib Kaidali\\projects\\git\\AICohortW24\\venv\\lib\\site-packages\\sklearn\\linear_model\\_sag.py:350: ConvergenceWarning: The max_iter was reached which means the coef_ did not converge\n",
      "  warnings.warn(\n"
     ]
    },
    {
     "name": "stdout",
     "output_type": "stream",
     "text": [
      "convergence after 16 epochs took 6 seconds\n",
      "convergence after 26 epochs took 9 seconds\n",
      "convergence after 67 epochs took 25 seconds\n",
      "max_iter reached after 353 seconds\n"
     ]
    },
    {
     "name": "stderr",
     "output_type": "stream",
     "text": [
      "c:\\Users\\Sohaib Kaidali\\projects\\git\\AICohortW24\\venv\\lib\\site-packages\\sklearn\\linear_model\\_sag.py:350: ConvergenceWarning: The max_iter was reached which means the coef_ did not converge\n",
      "  warnings.warn(\n"
     ]
    },
    {
     "name": "stdout",
     "output_type": "stream",
     "text": [
      "convergence after 16 epochs took 5 seconds\n",
      "max_iter reached after 402 seconds\n"
     ]
    },
    {
     "name": "stderr",
     "output_type": "stream",
     "text": [
      "c:\\Users\\Sohaib Kaidali\\projects\\git\\AICohortW24\\venv\\lib\\site-packages\\sklearn\\linear_model\\_sag.py:350: ConvergenceWarning: The max_iter was reached which means the coef_ did not converge\n",
      "  warnings.warn(\n"
     ]
    },
    {
     "name": "stdout",
     "output_type": "stream",
     "text": [
      "convergence after 32 epochs took 11 seconds\n",
      "convergence after 15 epochs took 5 seconds\n",
      "convergence after 88 epochs took 31 seconds\n",
      "convergence after 50 epochs took 15 seconds\n",
      "convergence after 107 epochs took 38 seconds\n",
      "convergence after 138 epochs took 51 seconds\n",
      "convergence after 396 epochs took 187 seconds\n",
      "convergence after 428 epochs took 195 seconds\n",
      "convergence after 516 epochs took 239 seconds\n",
      "convergence after 561 epochs took 234 seconds\n",
      "max_iter reached after 367 seconds\n"
     ]
    },
    {
     "name": "stderr",
     "output_type": "stream",
     "text": [
      "c:\\Users\\Sohaib Kaidali\\projects\\git\\AICohortW24\\venv\\lib\\site-packages\\sklearn\\linear_model\\_sag.py:350: ConvergenceWarning: The max_iter was reached which means the coef_ did not converge\n",
      "  warnings.warn(\n"
     ]
    },
    {
     "name": "stdout",
     "output_type": "stream",
     "text": [
      "convergence after 16 epochs took 5 seconds\n",
      "convergence after 25 epochs took 9 seconds\n",
      "max_iter reached after 370 seconds\n"
     ]
    },
    {
     "name": "stderr",
     "output_type": "stream",
     "text": [
      "c:\\Users\\Sohaib Kaidali\\projects\\git\\AICohortW24\\venv\\lib\\site-packages\\sklearn\\linear_model\\_sag.py:350: ConvergenceWarning: The max_iter was reached which means the coef_ did not converge\n",
      "  warnings.warn(\n"
     ]
    },
    {
     "name": "stdout",
     "output_type": "stream",
     "text": [
      "convergence after 16 epochs took 5 seconds\n",
      "convergence after 76 epochs took 31 seconds\n",
      "convergence after 23 epochs took 7 seconds\n",
      "convergence after 57 epochs took 21 seconds\n",
      "max_iter reached after 344 seconds\n"
     ]
    },
    {
     "name": "stderr",
     "output_type": "stream",
     "text": [
      "c:\\Users\\Sohaib Kaidali\\projects\\git\\AICohortW24\\venv\\lib\\site-packages\\sklearn\\linear_model\\_sag.py:350: ConvergenceWarning: The max_iter was reached which means the coef_ did not converge\n",
      "  warnings.warn(\n"
     ]
    },
    {
     "name": "stdout",
     "output_type": "stream",
     "text": [
      "convergence after 16 epochs took 5 seconds\n",
      "max_iter reached after 323 seconds\n"
     ]
    },
    {
     "name": "stderr",
     "output_type": "stream",
     "text": [
      "c:\\Users\\Sohaib Kaidali\\projects\\git\\AICohortW24\\venv\\lib\\site-packages\\sklearn\\linear_model\\_sag.py:350: ConvergenceWarning: The max_iter was reached which means the coef_ did not converge\n",
      "  warnings.warn(\n"
     ]
    },
    {
     "name": "stdout",
     "output_type": "stream",
     "text": [
      "convergence after 15 epochs took 4 seconds\n",
      "convergence after 25 epochs took 7 seconds\n",
      "convergence after 31 epochs took 8 seconds\n",
      "convergence after 83 epochs took 23 seconds\n",
      "convergence after 104 epochs took 27 seconds\n",
      "convergence after 360 epochs took 130 seconds\n",
      "convergence after 418 epochs took 143 seconds\n",
      "convergence after 493 epochs took 179 seconds\n",
      "convergence after 635 epochs took 222 seconds\n",
      "max_iter reached after 335 seconds\n"
     ]
    },
    {
     "name": "stderr",
     "output_type": "stream",
     "text": [
      "c:\\Users\\Sohaib Kaidali\\projects\\git\\AICohortW24\\venv\\lib\\site-packages\\sklearn\\linear_model\\_sag.py:350: ConvergenceWarning: The max_iter was reached which means the coef_ did not converge\n",
      "  warnings.warn(\n"
     ]
    },
    {
     "name": "stdout",
     "output_type": "stream",
     "text": [
      "convergence after 15 epochs took 3 seconds\n",
      "convergence after 54 epochs took 14 seconds\n",
      "max_iter reached after 329 seconds\n"
     ]
    },
    {
     "name": "stderr",
     "output_type": "stream",
     "text": [
      "c:\\Users\\Sohaib Kaidali\\projects\\git\\AICohortW24\\venv\\lib\\site-packages\\sklearn\\linear_model\\_sag.py:350: ConvergenceWarning: The max_iter was reached which means the coef_ did not converge\n",
      "  warnings.warn(\n"
     ]
    },
    {
     "name": "stdout",
     "output_type": "stream",
     "text": [
      "convergence after 123 epochs took 33 seconds\n",
      "max_iter reached after 325 seconds\n"
     ]
    },
    {
     "name": "stderr",
     "output_type": "stream",
     "text": [
      "c:\\Users\\Sohaib Kaidali\\projects\\git\\AICohortW24\\venv\\lib\\site-packages\\sklearn\\linear_model\\_sag.py:350: ConvergenceWarning: The max_iter was reached which means the coef_ did not converge\n",
      "  warnings.warn(\n"
     ]
    },
    {
     "name": "stdout",
     "output_type": "stream",
     "text": [
      "max_iter reached after 307 seconds\n"
     ]
    },
    {
     "name": "stderr",
     "output_type": "stream",
     "text": [
      "c:\\Users\\Sohaib Kaidali\\projects\\git\\AICohortW24\\venv\\lib\\site-packages\\sklearn\\linear_model\\_sag.py:350: ConvergenceWarning: The max_iter was reached which means the coef_ did not converge\n",
      "  warnings.warn(\n"
     ]
    },
    {
     "name": "stdout",
     "output_type": "stream",
     "text": [
      "convergence after 709 epochs took 261 seconds\n",
      "max_iter reached after 275 seconds\n"
     ]
    },
    {
     "name": "stderr",
     "output_type": "stream",
     "text": [
      "c:\\Users\\Sohaib Kaidali\\projects\\git\\AICohortW24\\venv\\lib\\site-packages\\sklearn\\linear_model\\_sag.py:350: ConvergenceWarning: The max_iter was reached which means the coef_ did not converge\n",
      "  warnings.warn(\n",
      "[Parallel(n_jobs=-1)]: Done  25 out of  25 | elapsed: 67.6min finished\n"
     ]
    },
    {
     "name": "stdout",
     "output_type": "stream",
     "text": [
      "convergence after 263 epochs took 91 seconds\n",
      "[Pipeline] ........ (step 3 of 3) Processing classifier, total=69.1min\n"
     ]
    },
    {
     "data": {
      "text/html": [
       "<style>#sk-container-id-1 {\n",
       "  /* Definition of color scheme common for light and dark mode */\n",
       "  --sklearn-color-text: black;\n",
       "  --sklearn-color-line: gray;\n",
       "  /* Definition of color scheme for unfitted estimators */\n",
       "  --sklearn-color-unfitted-level-0: #fff5e6;\n",
       "  --sklearn-color-unfitted-level-1: #f6e4d2;\n",
       "  --sklearn-color-unfitted-level-2: #ffe0b3;\n",
       "  --sklearn-color-unfitted-level-3: chocolate;\n",
       "  /* Definition of color scheme for fitted estimators */\n",
       "  --sklearn-color-fitted-level-0: #f0f8ff;\n",
       "  --sklearn-color-fitted-level-1: #d4ebff;\n",
       "  --sklearn-color-fitted-level-2: #b3dbfd;\n",
       "  --sklearn-color-fitted-level-3: cornflowerblue;\n",
       "\n",
       "  /* Specific color for light theme */\n",
       "  --sklearn-color-text-on-default-background: var(--sg-text-color, var(--theme-code-foreground, var(--jp-content-font-color1, black)));\n",
       "  --sklearn-color-background: var(--sg-background-color, var(--theme-background, var(--jp-layout-color0, white)));\n",
       "  --sklearn-color-border-box: var(--sg-text-color, var(--theme-code-foreground, var(--jp-content-font-color1, black)));\n",
       "  --sklearn-color-icon: #696969;\n",
       "\n",
       "  @media (prefers-color-scheme: dark) {\n",
       "    /* Redefinition of color scheme for dark theme */\n",
       "    --sklearn-color-text-on-default-background: var(--sg-text-color, var(--theme-code-foreground, var(--jp-content-font-color1, white)));\n",
       "    --sklearn-color-background: var(--sg-background-color, var(--theme-background, var(--jp-layout-color0, #111)));\n",
       "    --sklearn-color-border-box: var(--sg-text-color, var(--theme-code-foreground, var(--jp-content-font-color1, white)));\n",
       "    --sklearn-color-icon: #878787;\n",
       "  }\n",
       "}\n",
       "\n",
       "#sk-container-id-1 {\n",
       "  color: var(--sklearn-color-text);\n",
       "}\n",
       "\n",
       "#sk-container-id-1 pre {\n",
       "  padding: 0;\n",
       "}\n",
       "\n",
       "#sk-container-id-1 input.sk-hidden--visually {\n",
       "  border: 0;\n",
       "  clip: rect(1px 1px 1px 1px);\n",
       "  clip: rect(1px, 1px, 1px, 1px);\n",
       "  height: 1px;\n",
       "  margin: -1px;\n",
       "  overflow: hidden;\n",
       "  padding: 0;\n",
       "  position: absolute;\n",
       "  width: 1px;\n",
       "}\n",
       "\n",
       "#sk-container-id-1 div.sk-dashed-wrapped {\n",
       "  border: 1px dashed var(--sklearn-color-line);\n",
       "  margin: 0 0.4em 0.5em 0.4em;\n",
       "  box-sizing: border-box;\n",
       "  padding-bottom: 0.4em;\n",
       "  background-color: var(--sklearn-color-background);\n",
       "}\n",
       "\n",
       "#sk-container-id-1 div.sk-container {\n",
       "  /* jupyter's `normalize.less` sets `[hidden] { display: none; }`\n",
       "     but bootstrap.min.css set `[hidden] { display: none !important; }`\n",
       "     so we also need the `!important` here to be able to override the\n",
       "     default hidden behavior on the sphinx rendered scikit-learn.org.\n",
       "     See: https://github.com/scikit-learn/scikit-learn/issues/21755 */\n",
       "  display: inline-block !important;\n",
       "  position: relative;\n",
       "}\n",
       "\n",
       "#sk-container-id-1 div.sk-text-repr-fallback {\n",
       "  display: none;\n",
       "}\n",
       "\n",
       "div.sk-parallel-item,\n",
       "div.sk-serial,\n",
       "div.sk-item {\n",
       "  /* draw centered vertical line to link estimators */\n",
       "  background-image: linear-gradient(var(--sklearn-color-text-on-default-background), var(--sklearn-color-text-on-default-background));\n",
       "  background-size: 2px 100%;\n",
       "  background-repeat: no-repeat;\n",
       "  background-position: center center;\n",
       "}\n",
       "\n",
       "/* Parallel-specific style estimator block */\n",
       "\n",
       "#sk-container-id-1 div.sk-parallel-item::after {\n",
       "  content: \"\";\n",
       "  width: 100%;\n",
       "  border-bottom: 2px solid var(--sklearn-color-text-on-default-background);\n",
       "  flex-grow: 1;\n",
       "}\n",
       "\n",
       "#sk-container-id-1 div.sk-parallel {\n",
       "  display: flex;\n",
       "  align-items: stretch;\n",
       "  justify-content: center;\n",
       "  background-color: var(--sklearn-color-background);\n",
       "  position: relative;\n",
       "}\n",
       "\n",
       "#sk-container-id-1 div.sk-parallel-item {\n",
       "  display: flex;\n",
       "  flex-direction: column;\n",
       "}\n",
       "\n",
       "#sk-container-id-1 div.sk-parallel-item:first-child::after {\n",
       "  align-self: flex-end;\n",
       "  width: 50%;\n",
       "}\n",
       "\n",
       "#sk-container-id-1 div.sk-parallel-item:last-child::after {\n",
       "  align-self: flex-start;\n",
       "  width: 50%;\n",
       "}\n",
       "\n",
       "#sk-container-id-1 div.sk-parallel-item:only-child::after {\n",
       "  width: 0;\n",
       "}\n",
       "\n",
       "/* Serial-specific style estimator block */\n",
       "\n",
       "#sk-container-id-1 div.sk-serial {\n",
       "  display: flex;\n",
       "  flex-direction: column;\n",
       "  align-items: center;\n",
       "  background-color: var(--sklearn-color-background);\n",
       "  padding-right: 1em;\n",
       "  padding-left: 1em;\n",
       "}\n",
       "\n",
       "\n",
       "/* Toggleable style: style used for estimator/Pipeline/ColumnTransformer box that is\n",
       "clickable and can be expanded/collapsed.\n",
       "- Pipeline and ColumnTransformer use this feature and define the default style\n",
       "- Estimators will overwrite some part of the style using the `sk-estimator` class\n",
       "*/\n",
       "\n",
       "/* Pipeline and ColumnTransformer style (default) */\n",
       "\n",
       "#sk-container-id-1 div.sk-toggleable {\n",
       "  /* Default theme specific background. It is overwritten whether we have a\n",
       "  specific estimator or a Pipeline/ColumnTransformer */\n",
       "  background-color: var(--sklearn-color-background);\n",
       "}\n",
       "\n",
       "/* Toggleable label */\n",
       "#sk-container-id-1 label.sk-toggleable__label {\n",
       "  cursor: pointer;\n",
       "  display: block;\n",
       "  width: 100%;\n",
       "  margin-bottom: 0;\n",
       "  padding: 0.5em;\n",
       "  box-sizing: border-box;\n",
       "  text-align: center;\n",
       "}\n",
       "\n",
       "#sk-container-id-1 label.sk-toggleable__label-arrow:before {\n",
       "  /* Arrow on the left of the label */\n",
       "  content: \"▸\";\n",
       "  float: left;\n",
       "  margin-right: 0.25em;\n",
       "  color: var(--sklearn-color-icon);\n",
       "}\n",
       "\n",
       "#sk-container-id-1 label.sk-toggleable__label-arrow:hover:before {\n",
       "  color: var(--sklearn-color-text);\n",
       "}\n",
       "\n",
       "/* Toggleable content - dropdown */\n",
       "\n",
       "#sk-container-id-1 div.sk-toggleable__content {\n",
       "  max-height: 0;\n",
       "  max-width: 0;\n",
       "  overflow: hidden;\n",
       "  text-align: left;\n",
       "  /* unfitted */\n",
       "  background-color: var(--sklearn-color-unfitted-level-0);\n",
       "}\n",
       "\n",
       "#sk-container-id-1 div.sk-toggleable__content.fitted {\n",
       "  /* fitted */\n",
       "  background-color: var(--sklearn-color-fitted-level-0);\n",
       "}\n",
       "\n",
       "#sk-container-id-1 div.sk-toggleable__content pre {\n",
       "  margin: 0.2em;\n",
       "  border-radius: 0.25em;\n",
       "  color: var(--sklearn-color-text);\n",
       "  /* unfitted */\n",
       "  background-color: var(--sklearn-color-unfitted-level-0);\n",
       "}\n",
       "\n",
       "#sk-container-id-1 div.sk-toggleable__content.fitted pre {\n",
       "  /* unfitted */\n",
       "  background-color: var(--sklearn-color-fitted-level-0);\n",
       "}\n",
       "\n",
       "#sk-container-id-1 input.sk-toggleable__control:checked~div.sk-toggleable__content {\n",
       "  /* Expand drop-down */\n",
       "  max-height: 200px;\n",
       "  max-width: 100%;\n",
       "  overflow: auto;\n",
       "}\n",
       "\n",
       "#sk-container-id-1 input.sk-toggleable__control:checked~label.sk-toggleable__label-arrow:before {\n",
       "  content: \"▾\";\n",
       "}\n",
       "\n",
       "/* Pipeline/ColumnTransformer-specific style */\n",
       "\n",
       "#sk-container-id-1 div.sk-label input.sk-toggleable__control:checked~label.sk-toggleable__label {\n",
       "  color: var(--sklearn-color-text);\n",
       "  background-color: var(--sklearn-color-unfitted-level-2);\n",
       "}\n",
       "\n",
       "#sk-container-id-1 div.sk-label.fitted input.sk-toggleable__control:checked~label.sk-toggleable__label {\n",
       "  background-color: var(--sklearn-color-fitted-level-2);\n",
       "}\n",
       "\n",
       "/* Estimator-specific style */\n",
       "\n",
       "/* Colorize estimator box */\n",
       "#sk-container-id-1 div.sk-estimator input.sk-toggleable__control:checked~label.sk-toggleable__label {\n",
       "  /* unfitted */\n",
       "  background-color: var(--sklearn-color-unfitted-level-2);\n",
       "}\n",
       "\n",
       "#sk-container-id-1 div.sk-estimator.fitted input.sk-toggleable__control:checked~label.sk-toggleable__label {\n",
       "  /* fitted */\n",
       "  background-color: var(--sklearn-color-fitted-level-2);\n",
       "}\n",
       "\n",
       "#sk-container-id-1 div.sk-label label.sk-toggleable__label,\n",
       "#sk-container-id-1 div.sk-label label {\n",
       "  /* The background is the default theme color */\n",
       "  color: var(--sklearn-color-text-on-default-background);\n",
       "}\n",
       "\n",
       "/* On hover, darken the color of the background */\n",
       "#sk-container-id-1 div.sk-label:hover label.sk-toggleable__label {\n",
       "  color: var(--sklearn-color-text);\n",
       "  background-color: var(--sklearn-color-unfitted-level-2);\n",
       "}\n",
       "\n",
       "/* Label box, darken color on hover, fitted */\n",
       "#sk-container-id-1 div.sk-label.fitted:hover label.sk-toggleable__label.fitted {\n",
       "  color: var(--sklearn-color-text);\n",
       "  background-color: var(--sklearn-color-fitted-level-2);\n",
       "}\n",
       "\n",
       "/* Estimator label */\n",
       "\n",
       "#sk-container-id-1 div.sk-label label {\n",
       "  font-family: monospace;\n",
       "  font-weight: bold;\n",
       "  display: inline-block;\n",
       "  line-height: 1.2em;\n",
       "}\n",
       "\n",
       "#sk-container-id-1 div.sk-label-container {\n",
       "  text-align: center;\n",
       "}\n",
       "\n",
       "/* Estimator-specific */\n",
       "#sk-container-id-1 div.sk-estimator {\n",
       "  font-family: monospace;\n",
       "  border: 1px dotted var(--sklearn-color-border-box);\n",
       "  border-radius: 0.25em;\n",
       "  box-sizing: border-box;\n",
       "  margin-bottom: 0.5em;\n",
       "  /* unfitted */\n",
       "  background-color: var(--sklearn-color-unfitted-level-0);\n",
       "}\n",
       "\n",
       "#sk-container-id-1 div.sk-estimator.fitted {\n",
       "  /* fitted */\n",
       "  background-color: var(--sklearn-color-fitted-level-0);\n",
       "}\n",
       "\n",
       "/* on hover */\n",
       "#sk-container-id-1 div.sk-estimator:hover {\n",
       "  /* unfitted */\n",
       "  background-color: var(--sklearn-color-unfitted-level-2);\n",
       "}\n",
       "\n",
       "#sk-container-id-1 div.sk-estimator.fitted:hover {\n",
       "  /* fitted */\n",
       "  background-color: var(--sklearn-color-fitted-level-2);\n",
       "}\n",
       "\n",
       "/* Specification for estimator info (e.g. \"i\" and \"?\") */\n",
       "\n",
       "/* Common style for \"i\" and \"?\" */\n",
       "\n",
       ".sk-estimator-doc-link,\n",
       "a:link.sk-estimator-doc-link,\n",
       "a:visited.sk-estimator-doc-link {\n",
       "  float: right;\n",
       "  font-size: smaller;\n",
       "  line-height: 1em;\n",
       "  font-family: monospace;\n",
       "  background-color: var(--sklearn-color-background);\n",
       "  border-radius: 1em;\n",
       "  height: 1em;\n",
       "  width: 1em;\n",
       "  text-decoration: none !important;\n",
       "  margin-left: 1ex;\n",
       "  /* unfitted */\n",
       "  border: var(--sklearn-color-unfitted-level-1) 1pt solid;\n",
       "  color: var(--sklearn-color-unfitted-level-1);\n",
       "}\n",
       "\n",
       ".sk-estimator-doc-link.fitted,\n",
       "a:link.sk-estimator-doc-link.fitted,\n",
       "a:visited.sk-estimator-doc-link.fitted {\n",
       "  /* fitted */\n",
       "  border: var(--sklearn-color-fitted-level-1) 1pt solid;\n",
       "  color: var(--sklearn-color-fitted-level-1);\n",
       "}\n",
       "\n",
       "/* On hover */\n",
       "div.sk-estimator:hover .sk-estimator-doc-link:hover,\n",
       ".sk-estimator-doc-link:hover,\n",
       "div.sk-label-container:hover .sk-estimator-doc-link:hover,\n",
       ".sk-estimator-doc-link:hover {\n",
       "  /* unfitted */\n",
       "  background-color: var(--sklearn-color-unfitted-level-3);\n",
       "  color: var(--sklearn-color-background);\n",
       "  text-decoration: none;\n",
       "}\n",
       "\n",
       "div.sk-estimator.fitted:hover .sk-estimator-doc-link.fitted:hover,\n",
       ".sk-estimator-doc-link.fitted:hover,\n",
       "div.sk-label-container:hover .sk-estimator-doc-link.fitted:hover,\n",
       ".sk-estimator-doc-link.fitted:hover {\n",
       "  /* fitted */\n",
       "  background-color: var(--sklearn-color-fitted-level-3);\n",
       "  color: var(--sklearn-color-background);\n",
       "  text-decoration: none;\n",
       "}\n",
       "\n",
       "/* Span, style for the box shown on hovering the info icon */\n",
       ".sk-estimator-doc-link span {\n",
       "  display: none;\n",
       "  z-index: 9999;\n",
       "  position: relative;\n",
       "  font-weight: normal;\n",
       "  right: .2ex;\n",
       "  padding: .5ex;\n",
       "  margin: .5ex;\n",
       "  width: min-content;\n",
       "  min-width: 20ex;\n",
       "  max-width: 50ex;\n",
       "  color: var(--sklearn-color-text);\n",
       "  box-shadow: 2pt 2pt 4pt #999;\n",
       "  /* unfitted */\n",
       "  background: var(--sklearn-color-unfitted-level-0);\n",
       "  border: .5pt solid var(--sklearn-color-unfitted-level-3);\n",
       "}\n",
       "\n",
       ".sk-estimator-doc-link.fitted span {\n",
       "  /* fitted */\n",
       "  background: var(--sklearn-color-fitted-level-0);\n",
       "  border: var(--sklearn-color-fitted-level-3);\n",
       "}\n",
       "\n",
       ".sk-estimator-doc-link:hover span {\n",
       "  display: block;\n",
       "}\n",
       "\n",
       "/* \"?\"-specific style due to the `<a>` HTML tag */\n",
       "\n",
       "#sk-container-id-1 a.estimator_doc_link {\n",
       "  float: right;\n",
       "  font-size: 1rem;\n",
       "  line-height: 1em;\n",
       "  font-family: monospace;\n",
       "  background-color: var(--sklearn-color-background);\n",
       "  border-radius: 1rem;\n",
       "  height: 1rem;\n",
       "  width: 1rem;\n",
       "  text-decoration: none;\n",
       "  /* unfitted */\n",
       "  color: var(--sklearn-color-unfitted-level-1);\n",
       "  border: var(--sklearn-color-unfitted-level-1) 1pt solid;\n",
       "}\n",
       "\n",
       "#sk-container-id-1 a.estimator_doc_link.fitted {\n",
       "  /* fitted */\n",
       "  border: var(--sklearn-color-fitted-level-1) 1pt solid;\n",
       "  color: var(--sklearn-color-fitted-level-1);\n",
       "}\n",
       "\n",
       "/* On hover */\n",
       "#sk-container-id-1 a.estimator_doc_link:hover {\n",
       "  /* unfitted */\n",
       "  background-color: var(--sklearn-color-unfitted-level-3);\n",
       "  color: var(--sklearn-color-background);\n",
       "  text-decoration: none;\n",
       "}\n",
       "\n",
       "#sk-container-id-1 a.estimator_doc_link.fitted:hover {\n",
       "  /* fitted */\n",
       "  background-color: var(--sklearn-color-fitted-level-3);\n",
       "}\n",
       "</style><div id=\"sk-container-id-1\" class=\"sk-top-container\"><div class=\"sk-text-repr-fallback\"><pre>Pipeline(memory=&#x27;cache&#x27;,\n",
       "         steps=[(&#x27;scaler&#x27;, MinMaxScaler()),\n",
       "                (&#x27;poly_features&#x27;, PolynomialFeatures()),\n",
       "                (&#x27;classifier&#x27;,\n",
       "                 LogisticRegressionCV(Cs=[0.001, 0.01, 0.1, 1.0, 100.0], cv=5,\n",
       "                                      l1_ratios=[0.1, 0.3, 0.5, 0.7, 0.9],\n",
       "                                      max_iter=1000, n_jobs=-1,\n",
       "                                      penalty=&#x27;elasticnet&#x27;, random_state=42,\n",
       "                                      scoring=&#x27;balanced_accuracy&#x27;,\n",
       "                                      solver=&#x27;saga&#x27;, verbose=3))],\n",
       "         verbose=True)</pre><b>In a Jupyter environment, please rerun this cell to show the HTML representation or trust the notebook. <br />On GitHub, the HTML representation is unable to render, please try loading this page with nbviewer.org.</b></div><div class=\"sk-container\" hidden><div class=\"sk-item sk-dashed-wrapped\"><div class=\"sk-label-container\"><div class=\"sk-label fitted sk-toggleable\"><input class=\"sk-toggleable__control sk-hidden--visually\" id=\"sk-estimator-id-1\" type=\"checkbox\" ><label for=\"sk-estimator-id-1\" class=\"sk-toggleable__label fitted sk-toggleable__label-arrow fitted\">&nbsp;&nbsp;Pipeline<a class=\"sk-estimator-doc-link fitted\" rel=\"noreferrer\" target=\"_blank\" href=\"https://scikit-learn.org/1.4/modules/generated/sklearn.pipeline.Pipeline.html\">?<span>Documentation for Pipeline</span></a><span class=\"sk-estimator-doc-link fitted\">i<span>Fitted</span></span></label><div class=\"sk-toggleable__content fitted\"><pre>Pipeline(memory=&#x27;cache&#x27;,\n",
       "         steps=[(&#x27;scaler&#x27;, MinMaxScaler()),\n",
       "                (&#x27;poly_features&#x27;, PolynomialFeatures()),\n",
       "                (&#x27;classifier&#x27;,\n",
       "                 LogisticRegressionCV(Cs=[0.001, 0.01, 0.1, 1.0, 100.0], cv=5,\n",
       "                                      l1_ratios=[0.1, 0.3, 0.5, 0.7, 0.9],\n",
       "                                      max_iter=1000, n_jobs=-1,\n",
       "                                      penalty=&#x27;elasticnet&#x27;, random_state=42,\n",
       "                                      scoring=&#x27;balanced_accuracy&#x27;,\n",
       "                                      solver=&#x27;saga&#x27;, verbose=3))],\n",
       "         verbose=True)</pre></div> </div></div><div class=\"sk-serial\"><div class=\"sk-item\"><div class=\"sk-estimator fitted sk-toggleable\"><input class=\"sk-toggleable__control sk-hidden--visually\" id=\"sk-estimator-id-2\" type=\"checkbox\" ><label for=\"sk-estimator-id-2\" class=\"sk-toggleable__label fitted sk-toggleable__label-arrow fitted\">&nbsp;MinMaxScaler<a class=\"sk-estimator-doc-link fitted\" rel=\"noreferrer\" target=\"_blank\" href=\"https://scikit-learn.org/1.4/modules/generated/sklearn.preprocessing.MinMaxScaler.html\">?<span>Documentation for MinMaxScaler</span></a></label><div class=\"sk-toggleable__content fitted\"><pre>MinMaxScaler()</pre></div> </div></div><div class=\"sk-item\"><div class=\"sk-estimator fitted sk-toggleable\"><input class=\"sk-toggleable__control sk-hidden--visually\" id=\"sk-estimator-id-3\" type=\"checkbox\" ><label for=\"sk-estimator-id-3\" class=\"sk-toggleable__label fitted sk-toggleable__label-arrow fitted\">&nbsp;PolynomialFeatures<a class=\"sk-estimator-doc-link fitted\" rel=\"noreferrer\" target=\"_blank\" href=\"https://scikit-learn.org/1.4/modules/generated/sklearn.preprocessing.PolynomialFeatures.html\">?<span>Documentation for PolynomialFeatures</span></a></label><div class=\"sk-toggleable__content fitted\"><pre>PolynomialFeatures()</pre></div> </div></div><div class=\"sk-item\"><div class=\"sk-estimator fitted sk-toggleable\"><input class=\"sk-toggleable__control sk-hidden--visually\" id=\"sk-estimator-id-4\" type=\"checkbox\" ><label for=\"sk-estimator-id-4\" class=\"sk-toggleable__label fitted sk-toggleable__label-arrow fitted\">&nbsp;LogisticRegressionCV<a class=\"sk-estimator-doc-link fitted\" rel=\"noreferrer\" target=\"_blank\" href=\"https://scikit-learn.org/1.4/modules/generated/sklearn.linear_model.LogisticRegressionCV.html\">?<span>Documentation for LogisticRegressionCV</span></a></label><div class=\"sk-toggleable__content fitted\"><pre>LogisticRegressionCV(Cs=[0.001, 0.01, 0.1, 1.0, 100.0], cv=5,\n",
       "                     l1_ratios=[0.1, 0.3, 0.5, 0.7, 0.9], max_iter=1000,\n",
       "                     n_jobs=-1, penalty=&#x27;elasticnet&#x27;, random_state=42,\n",
       "                     scoring=&#x27;balanced_accuracy&#x27;, solver=&#x27;saga&#x27;, verbose=3)</pre></div> </div></div></div></div></div></div>"
      ],
      "text/plain": [
       "Pipeline(memory='cache',\n",
       "         steps=[('scaler', MinMaxScaler()),\n",
       "                ('poly_features', PolynomialFeatures()),\n",
       "                ('classifier',\n",
       "                 LogisticRegressionCV(Cs=[0.001, 0.01, 0.1, 1.0, 100.0], cv=5,\n",
       "                                      l1_ratios=[0.1, 0.3, 0.5, 0.7, 0.9],\n",
       "                                      max_iter=1000, n_jobs=-1,\n",
       "                                      penalty='elasticnet', random_state=42,\n",
       "                                      scoring='balanced_accuracy',\n",
       "                                      solver='saga', verbose=3))],\n",
       "         verbose=True)"
      ]
     },
     "execution_count": 12,
     "metadata": {},
     "output_type": "execute_result"
    }
   ],
   "source": [
    "# Set parameters\n",
    "n_folds = 5\n",
    "# C_values = [0.001, 0.01, 0.1, 1.0, 100.0]\n",
    "# l1_ratios = [0.1, 0.3, 0.5, 0.7, 0.9]\n",
    "\n",
    "# Best values, training everything takes time\n",
    "C_values = [1.0]\n",
    "l1_ratios = [0.5]\n",
    "\n",
    "# Define the components\n",
    "scaler = MinMaxScaler()\n",
    "\n",
    "poly_features = PolynomialFeatures(degree=2)\n",
    "\n",
    "classifier = LogisticRegressionCV(\n",
    "    cv=n_folds,\n",
    "    Cs=C_values,\n",
    "    l1_ratios=l1_ratios,\n",
    "    penalty=\"elasticnet\",\n",
    "    scoring=\"balanced_accuracy\",\n",
    "    solver=\"saga\",\n",
    "    max_iter=1000,\n",
    "    random_state=42,\n",
    "    n_jobs=-1,\n",
    "    verbose=3\n",
    ")\n",
    "\n",
    "\n",
    "# Define the pipeline\n",
    "\n",
    "pipeline = Pipeline(\n",
    "    [(\"scaler\", scaler), (\"poly_features\", poly_features), (\"classifier\", classifier)],\n",
    "    verbose=True,\n",
    "    memory=\"cache\",\n",
    ")\n",
    "\n",
    "\n",
    "pipeline.fit(X_train_resampled, y_train_resampled)"
   ]
  },
  {
   "cell_type": "code",
   "execution_count": 24,
   "metadata": {},
   "outputs": [
    {
     "name": "stdout",
     "output_type": "stream",
     "text": [
      "Best parameters: [0.5]\n",
      "Mean score with best parameters: [1.]\n"
     ]
    }
   ],
   "source": [
    "print(\"Best parameters:\", pipeline.named_steps['classifier'].l1_ratio_)\n",
    "print(\"Mean score with best parameters:\", pipeline.named_steps['classifier'].C_)\n"
   ]
  },
  {
   "cell_type": "markdown",
   "metadata": {},
   "source": [
    "## Model Evaluation and Confusion Matrix Analysis"
   ]
  },
  {
   "cell_type": "code",
   "execution_count": 13,
   "metadata": {},
   "outputs": [
    {
     "name": "stdout",
     "output_type": "stream",
     "text": [
      "              precision    recall  f1-score   support\n",
      "\n",
      "         0.0       0.97      0.74      0.84     45898\n",
      "         1.0       0.24      0.81      0.38      4838\n",
      "\n",
      "    accuracy                           0.74     50736\n",
      "   macro avg       0.61      0.77      0.61     50736\n",
      "weighted avg       0.90      0.74      0.79     50736\n",
      "\n",
      "Accuracy:  0.7426482182276885\n",
      "Recall:  0.8112856552294336\n",
      "F1-score:  0.37547232984167983\n",
      "PR AUC Score:  0.36901102194340213\n",
      "Balanced Accuracy Score:  0.7733494814994177\n"
     ]
    },
    {
     "data": {
      "text/plain": [
       "Text(47.25, 0.5, 'True label')"
      ]
     },
     "execution_count": 13,
     "metadata": {},
     "output_type": "execute_result"
    },
    {
     "data": {
      "image/png": "[encoded data removed]",
      "text/plain": [
       "<Figure size 640x480 with 1 Axes>"
      ]
     },
     "metadata": {},
     "output_type": "display_data"
    }
   ],
   "source": [
    "y_pred = pipeline.predict(X_test)\n",
    "report_dict = classification_report(y_test, y_pred, output_dict=True)\n",
    "pr_auc = average_precision_score(y_test, pipeline.predict_proba(X_test)[:, 1])\n",
    "balanced_accuracy = balanced_accuracy_score(y_test, y_pred)\n",
    "report_dict = classification_report(y_test, y_pred, output_dict=True)\n",
    "accuracy = report_dict[\"accuracy\"]\n",
    "recall = (\n",
    "    report_dict[\"1.0\"][\"recall\"] if \"1.0\" in report_dict else 0\n",
    ")  # Recall for positive class\n",
    "# F1-score for positive class\n",
    "f1_score = report_dict[\"1.0\"][\"f1-score\"] if \"1.0\" in report_dict else 0\n",
    "# Calculate precision for positive class\n",
    "positive_precision = precision_score(y_test, y_pred, pos_label=1)\n",
    "\n",
    "print(classification_report(y_test, y_pred))\n",
    "print(\"Accuracy: \", accuracy)\n",
    "print(\"Recall: \", recall)\n",
    "print(\"F1-score: \", f1_score)\n",
    "print(\"PR AUC Score: \", pr_auc)\n",
    "print(\"Balanced Accuracy Score: \", balanced_accuracy)\n",
    "\n",
    "\n",
    "# Compute the confusion matrix\n",
    "cm = confusion_matrix(y_test, y_pred, normalize=\"true\")\n",
    "\n",
    "# Plot the confusion matrix\n",
    "sns.heatmap(cm, annot=True, cmap=\"Blues\", cbar=False)\n",
    "\n",
    "# Set the title and labels for the subplot\n",
    "plt.title(f'Confusion Matrix')\n",
    "plt.xlabel('Predicted label')\n",
    "plt.ylabel('True label')"
   ]
  },
  {
   "cell_type": "markdown",
   "metadata": {},
   "source": [
    "## Converting and Saving Best Model to ONNX Format"
   ]
  },
  {
   "cell_type": "code",
   "execution_count": 14,
   "metadata": {},
   "outputs": [
    {
     "name": "stderr",
     "output_type": "stream",
     "text": [
      "2024-03-08 22:50:28 - INFO - Best model saved successfully at '..\\models\\best_model.onnx'.\n"
     ]
    }
   ],
   "source": [
    "initial_types = [('input', FloatTensorType([None, X_train.shape[1]]))]\n",
    "final_types = [('label', Int64TensorType([None])),\n",
    "              ('output', FloatTensorType([None, 2]))]\n",
    "\n",
    "# Convert the best model to ONNX format with initial types\n",
    "onnx_model = convert_sklearn(pipeline, \"best_model\", initial_types=initial_types, final_types=final_types, options={'zipmap': False})\n",
    "\n",
    "# Infer shapes (optional but recommended)\n",
    "onnx_model = shape_inference.infer_shapes(onnx_model)\n",
    "\n",
    "# Define the path to save the ONNX model with timestamp\n",
    "onnx_file_path = f'..\\\\models\\\\best_model.onnx'\n",
    "\n",
    "# Save the ONNX model to a file\n",
    "onnx.save_model(onnx_model, onnx_file_path)\n",
    "\n",
    "# Log the saved best model\n",
    "logger.info(f\"Best model saved successfully at '{onnx_file_path}'.\")"
   ]
  },
  {
   "cell_type": "markdown",
   "metadata": {},
   "source": [
    "## Testing onnx model"
   ]
  },
  {
   "cell_type": "code",
   "execution_count": 15,
   "metadata": {},
   "outputs": [
    {
     "name": "stdout",
     "output_type": "stream",
     "text": [
      "array([[ 1.,  1.,  1., 40.,  1.,  0.,  0.,  0.,  0.,  1.,  0.,  1.,  0.,\n",
      "         5., 18., 15.,  1.,  0.,  9.,  4.,  3.],\n",
      "       [ 0.,  0.,  0., 25.,  1.,  0.,  0.,  1.,  0.,  0.,  0.,  0.,  1.,\n",
      "         3.,  0.,  0.,  0.,  0.,  7.,  6.,  1.],\n",
      "       [ 1.,  1.,  1., 28.,  0.,  0.,  0.,  0.,  1.,  0.,  0.,  1.,  1.,\n",
      "         5., 30., 30.,  1.,  0.,  9.,  4.,  8.],\n",
      "       [ 1.,  0.,  1., 27.,  0.,  0.,  0.,  1.,  1.,  1.,  0.,  1.,  0.,\n",
      "         2.,  0.,  0.,  0.,  0., 11.,  3.,  6.],\n",
      "       [ 1.,  1.,  1., 24.,  0.,  0.,  0.,  1.,  1.,  1.,  0.,  1.,  0.,\n",
      "         2.,  3.,  0.,  0.,  0., 11.,  5.,  4.],\n",
      "       [ 1.,  1.,  1., 25.,  1.,  0.,  0.,  1.,  1.,  1.,  0.,  1.,  0.,\n",
      "         2.,  0.,  2.,  0.,  1., 10.,  6.,  8.],\n",
      "       [ 1.,  0.,  1., 30.,  1.,  0.,  0.,  0.,  0.,  0.,  0.,  1.,  0.,\n",
      "         3.,  0., 14.,  0.,  0.,  9.,  6.,  7.],\n",
      "       [ 1.,  1.,  1., 25.,  1.,  0.,  0.,  1.,  0.,  1.,  0.,  1.,  0.,\n",
      "         3.,  0.,  0.,  1.,  0., 11.,  4.,  4.],\n",
      "       [ 0.,  0.,  1., 24.,  0.,  0.,  0.,  0.,  0.,  1.,  0.,  1.,  0.,\n",
      "         2.,  0.,  0.,  0.,  1.,  8.,  4.,  3.],\n",
      "       [ 0.,  0.,  1., 25.,  1.,  0.,  2.,  1.,  1.,  1.,  0.,  1.,  0.,\n",
      "         3.,  0.,  0.,  0.,  1., 13.,  6.,  8.]])\n",
      "<onnxruntime.capi.onnxruntime_inference_collection.InferenceSession object at 0x000001B688D4E6B0>\n",
      "Output metadata names: ['label', 'output']\n",
      "[array([1, 0, 1, 0, 0, 1, 0, 1, 0, 1], dtype=int64), array([[0.1561951 , 0.8438049 ],\n",
      "       [0.8112626 , 0.18873739],\n",
      "       [0.20342398, 0.796576  ],\n",
      "       [0.7293552 , 0.2706448 ],\n",
      "       [0.5426247 , 0.4573753 ],\n",
      "       [0.35940397, 0.64059603],\n",
      "       [0.6307322 , 0.36926782],\n",
      "       [0.27624673, 0.7237533 ],\n",
      "       [0.8148488 , 0.18515119],\n",
      "       [0.16657168, 0.8334283 ]], dtype=float32)]\n",
      "0.5\n"
     ]
    }
   ],
   "source": [
    "\n",
    "target_test_value = 0\n",
    "X_test_single_row = np.array(df[df[target_column] == target_test_value].iloc[:, 1:].head(10).values)\n",
    "print(repr(X_test_single_row))\n",
    "# Create an ONNX inference session with the loaded model\n",
    "onnx_session = InferenceSession(\"..\\\\models\\\\best_model.onnx\")\n",
    "print(onnx_session)\n",
    "output_meta_names = [output.name for output in onnx_session.get_outputs()]\n",
    "print(\"Output metadata names:\", output_meta_names)\n",
    "\n",
    "# Convert the input data to a dictionary with the appropriate key\n",
    "# input_data = {'input': X_test_single_row.astype(np.float32)}\n",
    "input_data = {'input': X_test_single_row.astype(np.float32)}\n",
    "\n",
    "# Run inference with the ONNX model\n",
    "output = onnx_session.run(None, input_data)\n",
    "print(output)\n",
    "# Assuming you have only one output, you can access it like this\n",
    "output_data = output[0]\n",
    "print(sum(output_data==target_test_value)/len(output_data))"
   ]
  },
  {
   "cell_type": "markdown",
   "metadata": {},
   "source": [
    "Order for input:\n",
    "\n",
    "1. HighBP\n",
    "2. HighChol\n",
    "3. CholCheck\n",
    "4. BMI\n",
    "5. Smoker\n",
    "6. Stroke\n",
    "7. Diabetes\n",
    "8. PhysActivity\n",
    "9. Fruits\n",
    "10. Veggies\n",
    "11. HvyAlcoholConsump\n",
    "12. AnyHealthcare\n",
    "13. NoDocbcCost\n",
    "14. GenHlth\n",
    "15. MentHlth\n",
    "16. PhysHlth\n",
    "17. DiffWalk\n",
    "18. Sex\n",
    "19. Age\n",
    "20. Education\n",
    "21. Income\n"
   ]
  }
 ],
 "metadata": {
  "kernelspec": {
   "display_name": "venv",
   "language": "python",
   "name": "python3"
  },
  "language_info": {
   "codemirror_mode": {
    "name": "ipython",
    "version": 3
   },
   "file_extension": ".py",
   "mimetype": "text/x-python",
   "name": "python",
   "nbconvert_exporter": "python",
   "pygments_lexer": "ipython3",
   "version": "3.10.1"
  }
 },
 "nbformat": 4,
 "nbformat_minor": 2
}
