{
  "cells": [
    {
      "cell_type": "markdown",
      "metadata": {
        "id": "view-in-github",
        "colab_type": "text"
      },
      "source": [
        "<a href=\"https://colab.research.google.com/github/kaidalisohaib/AICohortW24/blob/Anton/notebooks/model_training.ipynb\" target=\"_parent\"><img src=\"https://colab.research.google.com/assets/colab-badge.svg\" alt=\"Open In Colab\"/></a>"
      ]
    },
    {
      "cell_type": "code",
      "execution_count": null,
      "metadata": {
        "id": "waifusAK8aT7"
      },
      "outputs": [],
      "source": [
        "!python --version"
      ]
    },
    {
      "cell_type": "markdown",
      "metadata": {
        "id": "AM4tSWaW8aT9"
      },
      "source": [
        "### Step 1: Import necessary libraries"
      ]
    },
    {
      "cell_type": "code",
      "execution_count": 3,
      "metadata": {
        "id": "BtnHVdAw8aUB"
      },
      "outputs": [],
      "source": [
        "import pandas as pd\n",
        "import numpy as np\n",
        "import matplotlib.pyplot as plt\n",
        "import seaborn as sns\n",
        "from sklearn.model_selection import train_test_split\n",
        "from sklearn.preprocessing import StandardScaler\n",
        "from sklearn.linear_model import LogisticRegression\n",
        "from sklearn.metrics import accuracy_score, classification_report, confusion_matrix"
      ]
    },
    {
      "cell_type": "code",
      "source": [
        "from google.colab import drive\n",
        "drive.mount('/content/drive')"
      ],
      "metadata": {
        "id": "sn_vcbh9VvM9",
        "outputId": "006e0e2c-f56a-4745-fed8-158fb849c7fa",
        "colab": {
          "base_uri": "https://localhost:8080/"
        }
      },
      "execution_count": 4,
      "outputs": [
        {
          "output_type": "stream",
          "name": "stdout",
          "text": [
            "Drive already mounted at /content/drive; to attempt to forcibly remount, call drive.mount(\"/content/drive\", force_remount=True).\n"
          ]
        }
      ]
    },
    {
      "cell_type": "markdown",
      "metadata": {
        "id": "PG5lBZS-8aUC"
      },
      "source": [
        "### Step 2: Load the dataset"
      ]
    },
    {
      "cell_type": "code",
      "execution_count": 17,
      "metadata": {
        "id": "gnTXIfbS8aUC",
        "outputId": "9985b353-2e64-4f7a-ea96-1e7710746458",
        "colab": {
          "base_uri": "https://localhost:8080/"
        }
      },
      "outputs": [
        {
          "output_type": "stream",
          "name": "stdout",
          "text": [
            "   HeartDiseaseorAttack  HighBP  HighChol  CholCheck   BMI  Smoker  Stroke  \\\n",
            "0                   0.0     1.0       1.0        1.0  40.0     1.0     0.0   \n",
            "1                   0.0     0.0       0.0        0.0  25.0     1.0     0.0   \n",
            "2                   0.0     1.0       1.0        1.0  28.0     0.0     0.0   \n",
            "3                   0.0     1.0       0.0        1.0  27.0     0.0     0.0   \n",
            "4                   0.0     1.0       1.0        1.0  24.0     0.0     0.0   \n",
            "\n",
            "   Diabetes  PhysActivity  Fruits  ...  AnyHealthcare  NoDocbcCost  GenHlth  \\\n",
            "0       0.0           0.0     0.0  ...            1.0          0.0      5.0   \n",
            "1       0.0           1.0     0.0  ...            0.0          1.0      3.0   \n",
            "2       0.0           0.0     1.0  ...            1.0          1.0      5.0   \n",
            "3       0.0           1.0     1.0  ...            1.0          0.0      2.0   \n",
            "4       0.0           1.0     1.0  ...            1.0          0.0      2.0   \n",
            "\n",
            "   MentHlth  PhysHlth  DiffWalk  Sex   Age  Education  Income  \n",
            "0      18.0      15.0       1.0  0.0   9.0        4.0     3.0  \n",
            "1       0.0       0.0       0.0  0.0   7.0        6.0     1.0  \n",
            "2      30.0      30.0       1.0  0.0   9.0        4.0     8.0  \n",
            "3       0.0       0.0       0.0  0.0  11.0        3.0     6.0  \n",
            "4       3.0       0.0       0.0  0.0  11.0        5.0     4.0  \n",
            "\n",
            "[5 rows x 22 columns]\n"
          ]
        }
      ],
      "source": [
        "# File path to the dataset\n",
        "file_path = \"https://raw.githubusercontent.com/kaidalisohaib/AICohortW24/main/data/heart_disease_health_indicators_BRFSS2015.csv\"\n",
        "\n",
        "# Using pandas to read CSV file\n",
        "df = pd.read_csv(file_path)\n",
        "\n",
        "# Display it (remove at the end)\n",
        "print(df.head())\n"
      ]
    },
    {
      "cell_type": "markdown",
      "metadata": {
        "id": "tSN_rEdQ8aUC"
      },
      "source": [
        "### Step 3: Data exploration\n",
        "TODO: Explore the dataset, check for missing values, data types, summary statistics, etc."
      ]
    },
    {
      "cell_type": "code",
      "execution_count": null,
      "metadata": {
        "id": "JCXs2pPb8aUC"
      },
      "outputs": [],
      "source": []
    },
    {
      "cell_type": "markdown",
      "metadata": {
        "id": "EfPUCfx38aUD"
      },
      "source": [
        "### Step 4: Data preprocessing\n",
        "TODO: Handle missing values, encode categorical variables, perform feature scaling, etc."
      ]
    },
    {
      "cell_type": "code",
      "execution_count": null,
      "metadata": {
        "id": "iQ82UOYZ8aUD"
      },
      "outputs": [],
      "source": []
    },
    {
      "cell_type": "markdown",
      "metadata": {
        "id": "Pjwv--aL8aUD"
      },
      "source": [
        "### Step 5: Data visualization\n",
        "TODO: Visualize the data to gain insights (e.g., histograms, scatter plots, correlation matrix)"
      ]
    },
    {
      "cell_type": "code",
      "execution_count": null,
      "metadata": {
        "id": "zRi98HM_8aUD"
      },
      "outputs": [],
      "source": []
    },
    {
      "cell_type": "markdown",
      "metadata": {
        "id": "oLuYRSOj8aUE"
      },
      "source": [
        "### Step 6: Split the dataset into train and test sets"
      ]
    },
    {
      "cell_type": "code",
      "execution_count": null,
      "metadata": {
        "id": "Ln6LnEYJ8aUE"
      },
      "outputs": [],
      "source": []
    },
    {
      "cell_type": "markdown",
      "metadata": {
        "id": "CSGktgkB8aUE"
      },
      "source": [
        "### Step 7: Feature scaling"
      ]
    },
    {
      "cell_type": "code",
      "execution_count": null,
      "metadata": {
        "id": "oDjf1pJj8aUE"
      },
      "outputs": [],
      "source": []
    },
    {
      "cell_type": "markdown",
      "metadata": {
        "id": "mqTmb63Y8aUF"
      },
      "source": [
        "### Step 8: Model training"
      ]
    },
    {
      "cell_type": "code",
      "execution_count": null,
      "metadata": {
        "id": "rKf-f2YV8aUF"
      },
      "outputs": [],
      "source": []
    },
    {
      "cell_type": "markdown",
      "metadata": {
        "id": "J4d3zgkl8aUF"
      },
      "source": [
        "### Step 9: Model evaluation"
      ]
    },
    {
      "cell_type": "code",
      "execution_count": null,
      "metadata": {
        "id": "QrWUe_ND8aUF"
      },
      "outputs": [],
      "source": []
    },
    {
      "cell_type": "markdown",
      "metadata": {
        "id": "xP0TvApi8aUF"
      },
      "source": [
        "### Step 10: Confusion matrix"
      ]
    },
    {
      "cell_type": "code",
      "execution_count": null,
      "metadata": {
        "id": "PpRUbHYv8aUF"
      },
      "outputs": [],
      "source": []
    },
    {
      "cell_type": "markdown",
      "metadata": {
        "id": "UPDEMtzN8aUG"
      },
      "source": [
        "### Step 11: Classification report"
      ]
    },
    {
      "cell_type": "code",
      "execution_count": null,
      "metadata": {
        "id": "bhMxWCaI8aUG"
      },
      "outputs": [],
      "source": []
    }
  ],
  "metadata": {
    "colab": {
      "provenance": [],
      "include_colab_link": true
    },
    "kernelspec": {
      "display_name": "Python 3",
      "language": "python",
      "name": "python3"
    },
    "language_info": {
      "codemirror_mode": {
        "name": "ipython",
        "version": 3
      },
      "file_extension": ".py",
      "mimetype": "text/x-python",
      "name": "python",
      "nbconvert_exporter": "python",
      "pygments_lexer": "ipython3",
      "version": "3.10.1"
    }
  },
  "nbformat": 4,
  "nbformat_minor": 0
}