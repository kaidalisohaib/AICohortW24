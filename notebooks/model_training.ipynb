{
  "cells": [
    {
      "cell_type": "code",
      "execution_count": null,
      "metadata": {
        "id": "waifusAK8aT7"
      },
      "outputs": [],
      "source": [
        "!python --version"
      ]
    },
    {
      "cell_type": "markdown",
      "metadata": {
        "id": "AM4tSWaW8aT9"
      },
      "source": [
        "## Step 1: Import necessary libraries"
      ]
    },
    {
      "cell_type": "code",
      "execution_count": null,
      "metadata": {
        "id": "BtnHVdAw8aUB"
      },
      "outputs": [],
      "source": [
        "import os\n",
        "import pandas as pd\n",
        "import numpy as np\n",
        "import matplotlib\n",
        "import matplotlib.pyplot as plt\n",
        "import seaborn as sns\n",
        "from sklearn.model_selection import train_test_split\n",
        "from sklearn.preprocessing import StandardScaler\n",
        "from sklearn.linear_model import LogisticRegression\n",
        "from sklearn.metrics import accuracy_score, classification_report, confusion_matrix\n",
        "\n",
        "%matplotlib inline\n",
        "\n",
        "sns.set_context(\"notebook\")\n",
        "\n",
        "sns.set_theme(style=\"ticks\")"
      ]
    },
    {
      "cell_type": "markdown",
      "metadata": {
        "id": "PG5lBZS-8aUC"
      },
      "source": [
        "## Step 2: Load the dataset"
      ]
    },
    {
      "cell_type": "code",
      "execution_count": null,
      "metadata": {
        "id": "gnTXIfbS8aUC"
      },
      "outputs": [],
      "source": [
        "input_file_path = \"..\\\\data\\\\heart_disease_health_indicators_BRFSS2015.csv\"\n",
        "\n",
        "df = pd.read_csv(input_file_path, header = 0)\n",
        "\n",
        "df.head()\n",
        "\n",
        "all_columns = df.columns.tolist()\n",
        "\n",
        "# Define target column\n",
        "target_column = \"HeartDiseaseorAttack\"\n",
        "\n",
        "# Get all feature columns except one\n",
        "all_features = all_columns\n",
        "all_features.remove(target_column)\n",
        "\n",
        "# Get numerical columns\n",
        "numerical_cols = df.select_dtypes(include=['int64', 'float64']).columns.tolist()\n",
        "\n",
        "# Get non-numerical (categorical) columns\n",
        "categorical_cols = df.select_dtypes(include=['object']).columns.tolist()\n",
        "\n",
        "print(\"All the columns:\\n\", all_columns)\n",
        "print(\"Target column:\\n\", target_column)\n",
        "print(\"Features columns:\\n\", all_features) \n",
        "print(\"Numerical Columns:\\n\",numerical_cols)\n",
        "print(\"Categorical Columns:\\n\",categorical_cols)\n"
      ]
    },
    {
      "cell_type": "markdown",
      "metadata": {
        "id": "tSN_rEdQ8aUC"
      },
      "source": [
        "## Step 3: Data exploration"
      ]
    },
    {
      "cell_type": "markdown",
      "metadata": {},
      "source": [
        "### 3.1 Descriptive Statistics"
      ]
    },
    {
      "cell_type": "code",
      "execution_count": null,
      "metadata": {},
      "outputs": [],
      "source": [
        "# Print the first few rows of the dataset\n",
        "print(\"First few rows of the dataset:\")\n",
        "print(df.head())\n",
        "\n",
        "# Get summary statistics of numerical columns\n",
        "print(\"\\nSummary statistics of numerical columns:\")\n",
        "print(df.describe())\n",
        "\n",
        "# Get the count of unique values in each column\n",
        "print(\"\\nCount of unique values in each column:\")\n",
        "print(df.nunique())\n",
        "\n",
        "print(\"\\nCount of missing values:\")\n",
        "print(df.isnull().sum())\n",
        "\n",
        "# Get the count of duplicate rows\n",
        "print(\"\\nCount of duplicated rows:\")\n",
        "print(df.duplicated(keep=False).sum())\n",
        "\n",
        "# Value counts of a numerical variable\n",
        "print(\"\\nValue counts of a numerical variable:\")\n",
        "print(len(numerical_cols))\n",
        "\n",
        "# Value counts of a categorical variable\n",
        "print(\"\\nValue counts of a categorical variable:\")\n",
        "print(len(categorical_cols))"
      ]
    },
    {
      "cell_type": "markdown",
      "metadata": {},
      "source": [
        "### 3.2 Data Visualization"
      ]
    },
    {
      "cell_type": "code",
      "execution_count": null,
      "metadata": {},
      "outputs": [],
      "source": [
        "sample_df = df.sample(1_000)\n",
        "\n",
        "df.hist(figsize=(20,20))\n",
        "plt.tight_layout()\n",
        "plt.show()\n",
        "\n",
        "###########\n",
        "\n",
        "# Determine the number of columns in the pairplot grid\n",
        "num_cols = 5  # Adjust the number of columns as needed\n",
        "\n",
        "# Calculate the number of rows needed for the pairplot grid\n",
        "num_rows = (len(all_features) + num_cols - 1) // num_cols\n",
        "\n",
        "# Create a single figure and axes for the pairplot grid\n",
        "fig, axes = plt.subplots(num_rows, num_cols, figsize=(5*num_cols, 5*num_rows))\n",
        "\n",
        "# Plot each feature against the target variable\n",
        "for i, feature in enumerate(all_features):\n",
        "    row = i // num_cols\n",
        "    col = i % num_cols\n",
        "    ax = axes[row, col]\n",
        "    sns.kdeplot(data=sample_df, x=feature, hue=target_column, fill=True, ax=ax)\n",
        "    ax.set_ylabel(\"Frequency\")\n",
        "\n",
        "# Hide empty subplots\n",
        "for i in range(len(all_features), num_rows*num_cols):\n",
        "    row = i // num_cols\n",
        "    col = i % num_cols\n",
        "    fig.delaxes(axes[row, col])\n",
        "\n",
        "# Show the combined pairplot image\n",
        "plt.tight_layout()\n",
        "plt.show()"
      ]
    },
    {
      "cell_type": "markdown",
      "metadata": {},
      "source": [
        "### 3.3 Pattern identification"
      ]
    },
    {
      "cell_type": "code",
      "execution_count": null,
      "metadata": {
        "colab": {
          "base_uri": "https://localhost:8080/"
        },
        "id": "JCXs2pPb8aUC",
        "outputId": "972ce2a4-7baa-46a7-b25e-5130cba8aae8"
      },
      "outputs": [],
      "source": [
        "# Correlation matrix\n",
        "plt.figure(figsize=(12,10))\n",
        "sns.heatmap(df.corr(), annot=True, fmt=\".2f\")\n",
        "plt.show()"
      ]
    },
    {
      "cell_type": "markdown",
      "metadata": {
        "id": "EfPUCfx38aUD"
      },
      "source": [
        "## Step 4: Data preprocessing\n",
        "TODO: Handle missing values, encode categorical variables, perform feature scaling, etc."
      ]
    },
    {
      "cell_type": "code",
      "execution_count": null,
      "metadata": {
        "id": "iQ82UOYZ8aUD"
      },
      "outputs": [],
      "source": [
        "df.drop_duplicates(keep='first', inplace=True)\n",
        "# No missing value so we're good"
      ]
    },
    {
      "cell_type": "markdown",
      "metadata": {
        "id": "Pjwv--aL8aUD"
      },
      "source": [
        "## Step 5: Data visualization\n",
        "TODO: Visualize the data to gain insights (e.g., histograms, scatter plots, correlation matrix)"
      ]
    },
    {
      "cell_type": "code",
      "execution_count": null,
      "metadata": {
        "id": "zRi98HM_8aUD"
      },
      "outputs": [],
      "source": []
    },
    {
      "cell_type": "markdown",
      "metadata": {
        "id": "oLuYRSOj8aUE"
      },
      "source": [
        "## Step 6: Split the dataset into train and test sets"
      ]
    },
    {
      "cell_type": "code",
      "execution_count": null,
      "metadata": {
        "id": "Ln6LnEYJ8aUE"
      },
      "outputs": [],
      "source": []
    },
    {
      "cell_type": "markdown",
      "metadata": {
        "id": "CSGktgkB8aUE"
      },
      "source": [
        "## Step 7: Feature scaling"
      ]
    },
    {
      "cell_type": "code",
      "execution_count": null,
      "metadata": {
        "id": "oDjf1pJj8aUE"
      },
      "outputs": [],
      "source": []
    },
    {
      "cell_type": "markdown",
      "metadata": {
        "id": "mqTmb63Y8aUF"
      },
      "source": [
        "## Step 8: Model training"
      ]
    },
    {
      "cell_type": "code",
      "execution_count": null,
      "metadata": {
        "id": "rKf-f2YV8aUF"
      },
      "outputs": [],
      "source": []
    },
    {
      "cell_type": "markdown",
      "metadata": {
        "id": "J4d3zgkl8aUF"
      },
      "source": [
        "## Step 9: Model evaluation"
      ]
    },
    {
      "cell_type": "code",
      "execution_count": null,
      "metadata": {
        "id": "QrWUe_ND8aUF"
      },
      "outputs": [],
      "source": []
    },
    {
      "cell_type": "markdown",
      "metadata": {
        "id": "xP0TvApi8aUF"
      },
      "source": [
        "## Step 10: Confusion matrix"
      ]
    },
    {
      "cell_type": "code",
      "execution_count": null,
      "metadata": {
        "id": "PpRUbHYv8aUF"
      },
      "outputs": [],
      "source": []
    },
    {
      "cell_type": "markdown",
      "metadata": {
        "id": "UPDEMtzN8aUG"
      },
      "source": [
        "## Step 11: Classification report"
      ]
    },
    {
      "cell_type": "code",
      "execution_count": null,
      "metadata": {
        "id": "bhMxWCaI8aUG"
      },
      "outputs": [],
      "source": []
    }
  ],
  "metadata": {
    "colab": {
      "provenance": []
    },
    "kernelspec": {
      "display_name": "Python 3",
      "language": "python",
      "name": "python3"
    },
    "language_info": {
      "codemirror_mode": {
        "name": "ipython",
        "version": 3
      },
      "file_extension": ".py",
      "mimetype": "text/x-python",
      "name": "python",
      "nbconvert_exporter": "python",
      "pygments_lexer": "ipython3",
      "version": "3.10.1"
    }
  },
  "nbformat": 4,
  "nbformat_minor": 0
}
